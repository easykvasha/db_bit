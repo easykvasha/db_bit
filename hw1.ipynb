{
 "cells": [
  {
   "cell_type": "markdown",
   "metadata": {},
   "source": [
    "# Уровни изоляции:\n",
    "Почитать про уровни изоляции и повторить(мне понравилась эта статья, но можно и по офф доке) https://habr.com/ru/articles/469415/\n",
    "\n",
    "# Результаты\n",
    "## Read uncommitted\n",
    "![Read uncommitted](/Users/kadygrov.ev/personal/mipt/6_kurs/db/hw1_v2/uncommited.jpg)\n",
    "![Read uncommitted 2](/Users/kadygrov.ev/personal/mipt/6_kurs/db/hw1_v2/uncommited_part_2.jpg)\n",
    "\n",
    "## Read committed\n",
    "![Read committed](/Users/kadygrov.ev/personal/mipt/6_kurs/db/hw1_v2/commited.jpg)\n",
    "\n",
    "## Repeatable read\n",
    "![Repeatable read](/Users/kadygrov.ev/personal/mipt/6_kurs/db/hw1_v2/repeatable_read.jpg)\n",
    "![Repeatable read 2](/Users/kadygrov.ev/personal/mipt/6_kurs/db/hw1_v2/repeatable_read_2.jpg)\n",
    "![Repeatable read 3](/Users/kadygrov.ev/personal/mipt/6_kurs/db/hw1_v2/repeatable_read_3.jpg)\n",
    "\n",
    "## Serializable\n",
    "![Serializable](/Users/kadygrov.ev/personal/mipt/6_kurs/db/hw1_v2/Serializable.jpg)\n",
    "\n",
    "# Все эксперименты удалось повторить успешно\n",
    "\n",
    "\n"
   ]
  },
  {
   "cell_type": "markdown",
   "metadata": {},
   "source": []
  }
 ],
 "metadata": {
  "kernelspec": {
   "display_name": "Python 3",
   "language": "python",
   "name": "python3"
  },
  "language_info": {
   "name": "python",
   "version": "3.10.10"
  }
 },
 "nbformat": 4,
 "nbformat_minor": 2
}
