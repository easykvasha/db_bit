{
 "cells": [
  {
   "cell_type": "markdown",
   "metadata": {},
   "source": [
    "# Уровни изоляции:\n",
    "Почитать про уровни изоляции и повторить(мне понравилась эта статья, но можно и по офф доке) https://habr.com/ru/articles/469415/\n",
    "\n",
    "# Результаты\n",
    "## Read uncommitted\n",
    "![Read uncommitted](images/uncommited.jpg)\n",
    "![Read uncommitted 2](images/uncommited_part_2.jpg)\n",
    "\n",
    "## Read committed\n",
    "![Read committed](images/commited.jpg)\n",
    "\n",
    "## Repeatable read\n",
    "![Repeatable read](images/repeatable_read.jpg)\n",
    "![Repeatable read 2](images/repeatable_read_2.jpg)\n",
    "![Repeatable read 3](images/repeatable_read_3.jpg)\n",
    "\n",
    "## Serializable\n",
    "![Serializable](images/Serializable.jpg)\n",
    "\n",
    "# Все эксперименты удалось повторить успешно\n",
    "\n",
    "\n"
   ]
  },
  {
   "cell_type": "markdown",
   "metadata": {},
   "source": []
  }
 ],
 "metadata": {
  "kernelspec": {
   "display_name": "Python 3",
   "language": "python",
   "name": "python3"
  },
  "language_info": {
   "name": "python",
   "version": "3.10.10"
  }
 },
 "nbformat": 4,
 "nbformat_minor": 2
}
